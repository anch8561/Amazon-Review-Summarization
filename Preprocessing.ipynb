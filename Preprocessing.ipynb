{
 "cells": [
  {
   "cell_type": "code",
   "execution_count": 1,
   "metadata": {},
   "outputs": [],
   "source": [
    "import nltk.data\n",
    "from nltk.tokenize import TweetTokenizer\n",
    "from nltk.corpus import stopwords \n",
    "from nltk.stem import WordNetLemmatizer\n",
    "from nltk.stem import PorterStemmer"
   ]
  },
  {
   "cell_type": "code",
   "execution_count": 2,
   "metadata": {},
   "outputs": [
    {
     "name": "stdout",
     "output_type": "stream",
     "text": [
      "['sampl', 'sentenc', 'random', 'word', 'bullshit', 'test', 'step', 'work', 'think', 'wonder', 'write', 'watch', 'wayyy', 'tooo', 'much', 'a', 'sfo', 'i', 'happpyyi', 'youuu', 'by', 'way', 'i', 'finish', 'last', 'piec', 'cake', 'write', 'first', 'draft', 'without', 'much', 'troubl', 'btw', 'lol', 'sleep', 'gibberish', 'add', 'fair', 'measur', 'discuss', 'contact', 'amazon', '50', 'valu', '100', 'jack', 'gill', 'lol', 'surpris']\n"
     ]
    }
   ],
   "source": [
    "review  = \"It's a sample sentence with random words to test if each of the steps work!! Thinking, wondering , writing and watching wayyyyy tooooooo much. am, are, was, were, be, is, A, SFO, I, happpppyyyyy.... youuuu, By the way, I finished the last piece of cake and wrote the first draft without much of a / any trouble. BTW, don't do it, lol, was sleeping, gibberish, add the fairness measure we discussed, contact @ amazon, $50 value, 100%, jack & gill, *lol*, (surprised)\"\n",
    "tokenizer = TweetTokenizer(strip_handles=True, reduce_len=True)\n",
    "stop_words = set(stopwords.words('english')) \n",
    "lemmatizer = WordNetLemmatizer()\n",
    "porter = PorterStemmer()\n",
    "\n",
    "tokens = tokenizer.tokenize(review)\n",
    "\n",
    "list_of_words = []\n",
    "for word in tokens:\n",
    "    if word.isalnum() and not word in stop_words:\n",
    "        word = word.lower()\n",
    "        word = lemmatizer.lemmatize(word, pos = 'v')\n",
    "        word = porter.stem(word)\n",
    "        list_of_words.append(word)\n",
    "\n",
    "print(list_of_words)"
   ]
  },
  {
   "cell_type": "code",
   "execution_count": null,
   "metadata": {},
   "outputs": [],
   "source": []
  }
 ],
 "metadata": {
  "kernelspec": {
   "display_name": "Python 3",
   "language": "python",
   "name": "python3"
  },
  "language_info": {
   "codemirror_mode": {
    "name": "ipython",
    "version": 3
   },
   "file_extension": ".py",
   "mimetype": "text/x-python",
   "name": "python",
   "nbconvert_exporter": "python",
   "pygments_lexer": "ipython3",
   "version": "3.7.3"
  }
 },
 "nbformat": 4,
 "nbformat_minor": 2
}
